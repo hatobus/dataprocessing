{
 "cells": [
  {
   "cell_type": "code",
   "execution_count": 4,
   "metadata": {
    "collapsed": false
   },
   "outputs": [
    {
     "name": "stdout",
     "output_type": "stream",
     "text": [
      "同じ文字数の文字列を入力してください\n",
      "パトカー\n",
      "タクシー\n",
      "パタトクカシーー\n",
      "同じ文字数の文字列を入力してください\n",
      "ペンチ\n",
      "スパナ\n",
      "ペスンパチナ\n",
      "同じ文字数の文字列を入力してください\n",
      "End!\n"
     ]
    }
   ],
   "source": [
    "try:\n",
    "    while(1):\n",
    "        print(\"同じ文字数の文字列を入力してください\")\n",
    "        S=input()\n",
    "        T=input()\n",
    "        \n",
    "        for i in range(len(S)):\n",
    "            print(S[i],end=\"\")\n",
    "            print(T[i],end=\"\")\n",
    "            \n",
    "        print(\"\")\n",
    "            \n",
    "except KeyboardInterrupt:\n",
    "    print(\"End!\")"
   ]
  },
  {
   "cell_type": "code",
   "execution_count": null,
   "metadata": {
    "collapsed": true
   },
   "outputs": [],
   "source": []
  }
 ],
 "metadata": {
  "kernelspec": {
   "display_name": "Python 3",
   "language": "python",
   "name": "python3"
  },
  "language_info": {
   "codemirror_mode": {
    "name": "ipython",
    "version": 3
   },
   "file_extension": ".py",
   "mimetype": "text/x-python",
   "name": "python",
   "nbconvert_exporter": "python",
   "pygments_lexer": "ipython3",
   "version": "3.6.0"
  }
 },
 "nbformat": 4,
 "nbformat_minor": 2
}
