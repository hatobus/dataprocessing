{
 "cells": [
  {
   "cell_type": "code",
   "execution_count": 2,
   "metadata": {
    "collapsed": false
   },
   "outputs": [],
   "source": [
    "import urllib.request\n",
    "from bs4 import BeautifulSoup"
   ]
  },
  {
   "cell_type": "code",
   "execution_count": 3,
   "metadata": {
    "collapsed": true
   },
   "outputs": [],
   "source": [
    "url=\"https://valu.is/nozomoto/data\"\n",
    "html = urllib.request.urlopen(url)"
   ]
  },
  {
   "cell_type": "code",
   "execution_count": 4,
   "metadata": {
    "collapsed": true
   },
   "outputs": [],
   "source": [
    "soup = BeautifulSoup(html, \"html.parser\")"
   ]
  },
  {
   "cell_type": "code",
   "execution_count": 10,
   "metadata": {
    "collapsed": true
   },
   "outputs": [],
   "source": [
    "em = soup.find_all(\"em\")\n",
    "nozomoto_value=\"\""
   ]
  },
  {
   "cell_type": "code",
   "execution_count": 17,
   "metadata": {
    "collapsed": false
   },
   "outputs": [
    {
     "name": "stdout",
     "output_type": "stream",
     "text": [
      "Nozomoto's valu ... 0.00830 BTC\n",
      "Nozomoto's Market capitalization ... 0.83020 BTC\n",
      "Nozomoto's Issued valu ... 100 BTC\n"
     ]
    }
   ],
   "source": [
    "print(\"Nozomoto's valu ... \" + em[0].string + \" BTC\")\n",
    "print(\"Nozomoto's Market capitalization ... \" + em[1].string + \" BTC\")\n",
    "print(\"Nozomoto's Issued valu ... \" + em[2].string + \" BTC\")"
   ]
  },
  {
   "cell_type": "code",
   "execution_count": 19,
   "metadata": {
    "collapsed": false
   },
   "outputs": [
    {
     "name": "stdout",
     "output_type": "stream",
     "text": [
      "[<em>0.00830</em>, <em>0.83020</em>, <em>100</em>, <em>10</em>, <em>0.00554</em>, <em>0.00246</em>, <em>0.00830</em>, <em>17</em>, <em>0.00830</em>, <em>0.00246</em>]\n"
     ]
    }
   ],
   "source": [
    "print(em)"
   ]
  },
  {
   "cell_type": "code",
   "execution_count": 18,
   "metadata": {
    "collapsed": true
   },
   "outputs": [],
   "source": [
    "import urllib.request\n",
    "from bs4 import BeautifulSoup\n",
    "from datetime import datetime\n",
    "import csv\n",
    "import time\n",
    "\n",
    "time_flag = True\n",
    "\n",
    "while True:\n",
    "    # 時間が59分以外の場合は58秒間時間を待機\n",
    "    if datetime.now().minute != 59:\n",
    "        # 59分ではないので1分(58秒)間待機します(誤差がないとは言い切れない)\n",
    "        time.sleep(58)\n",
    "        continue\n",
    "\n",
    "    # csvを追記モードで開く\n",
    "    f = open('nozovalu.csv', 'a')\n",
    "    writer = csv.writer(f, lineterminator='\\n')\n",
    "\n",
    "    # 59分になるが，正確な時間に測定をするために秒間隔で59秒になるまで抜け出せない\n",
    "    while datetime.now().second != 59:\n",
    "            # 00秒ではないので1秒待機\n",
    "            time.sleep(1)\n",
    "    # 処理が早く終わり二回繰り返してしまうのでここで一秒間待機\n",
    "    time.sleep(1)\n",
    "\n",
    "    # csvに記述するレコードを作成します\n",
    "    csv_list = []\n",
    "\n",
    "    # 現在の時刻を年、月、日、時、分、秒で取得します\n",
    "    time_ = datetime.now().strftime(\"%Y/%m/%d %H:%M:%S\")\n",
    "    \n",
    "    # 1カラム目に時間を挿入\n",
    "    csv_list.append(time_)\n",
    "\n",
    "    # アクセスするURL\n",
    "    url = \"https://valu.is/nozomoto/data\"\n",
    "\n",
    "    # URLにアクセスする htmlが帰ってくる → <html><head><title>経済、株価、ビジネス、政治のニュース:日経電子版</title></head><body....\n",
    "    html = urllib2.urlopen(url)\n",
    "\n",
    "    # htmlをBeautifulSoupで扱う\n",
    "    soup = BeautifulSoup(html, \"html.parser\")\n",
    "\n",
    "    # em要素全てを摘出する→全てのem要素が配列に入ってかえされる\n",
    "    em = soup.find_all(\"em\")\n",
    "\n",
    "    # 摘出した価格等を時間とともに出力します。\n",
    "   　print(\"Nozomoto's valu ... \" + em[0].string + \" BTC\")\n",
    "    print(\"Nozomoto's Market capitalization ... \" + em[1].string + \" BTC\")\n",
    "    print(\"Nozomoto's Issued valu ... \" + em[2].string + \" BTC\")\n",
    "    # リスト内にそれぞれ入れる\n",
    "    csv_list.append(em[0].string)\n",
    "    csv_list.append(em[1].string)\n",
    "    csv_list.append(em[2].string)\n",
    "    # csvに追記敷きます\n",
    "    writer.writerow(csv_list)\n",
    "    # ファイル破損防止のために閉じます\n",
    "    f.close()"
   ]
  },
  {
   "cell_type": "code",
   "execution_count": null,
   "metadata": {
    "collapsed": true
   },
   "outputs": [],
   "source": []
  }
 ],
 "metadata": {
  "kernelspec": {
   "display_name": "Python 3",
   "language": "python",
   "name": "python3"
  },
  "language_info": {
   "codemirror_mode": {
    "name": "ipython",
    "version": 3
   },
   "file_extension": ".py",
   "mimetype": "text/x-python",
   "name": "python",
   "nbconvert_exporter": "python",
   "pygments_lexer": "ipython3",
   "version": "3.6.0"
  }
 },
 "nbformat": 4,
 "nbformat_minor": 2
}
